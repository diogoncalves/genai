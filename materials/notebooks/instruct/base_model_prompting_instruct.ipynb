{
 "cells": [
  {
   "cell_type": "markdown",
   "metadata": {},
   "source": [
    "# Prompt-based Sentiment Classification\n",
    "\n",
    "This notebook demonstrates how to perform sentiment classification using a prompt-based approach with the Meta-Llama text generation model. The workflow includes:\n",
    "- Loading a dataset using pandas.\n",
    "- Generating prompts (both zero-shot and few-shot) from stored Markdown files.\n",
    "- Sending prompts to an API endpoint for text generation.\n",
    "- Parsing and displaying the responses.\n",
    "- Looping over a subset of the data to compare true sentiment labels with predicted classifications."
   ]
  },
  {
   "cell_type": "code",
   "execution_count": 1,
   "metadata": {},
   "outputs": [],
   "source": [
    "import pandas as pd\n",
    "pd.set_option('display.max_colwidth', None)"
   ]
  },
  {
   "cell_type": "markdown",
   "metadata": {},
   "source": [
    "### Loading the Training Dataset\n",
    "\n",
    "This cell reads the training dataset from a CSV file located at `../../data/train.csv` using the specified `ISO-8859-1` encoding.\n",
    "\n",
    "Data Source: https://www.kaggle.com/datasets/abhi8923shriv/sentiment-analysis-dataset?resource=download "
   ]
  },
  {
   "cell_type": "code",
   "execution_count": 2,
   "metadata": {},
   "outputs": [],
   "source": [
    "train = pd.read_csv(\"../../data/train_all.csv\", encoding='ISO-8859-1')"
   ]
  },
  {
   "cell_type": "markdown",
   "metadata": {},
   "source": [
    "### Checking the Shape of the Dataset\n",
    "\n",
    "This cell outputs the shape of the training dataframe (number of rows and columns) to quickly verify the dataset's dimensions."
   ]
  },
  {
   "cell_type": "code",
   "execution_count": 3,
   "metadata": {},
   "outputs": [
    {
     "data": {
      "text/plain": [
       "(27481, 10)"
      ]
     },
     "execution_count": 3,
     "metadata": {},
     "output_type": "execute_result"
    }
   ],
   "source": [
    "train.shape"
   ]
  },
  {
   "cell_type": "markdown",
   "metadata": {},
   "source": [
    "### Previewing the Data\n",
    "\n",
    "This cell displays the first 20 rows of the training dataset. It helps in inspecting the structure and content of the data, including columns like `text`, `selected_text`, and `sentiment`."
   ]
  },
  {
   "cell_type": "code",
   "execution_count": 4,
   "metadata": {},
   "outputs": [
    {
     "data": {
      "text/html": [
       "<div>\n",
       "<style scoped>\n",
       "    .dataframe tbody tr th:only-of-type {\n",
       "        vertical-align: middle;\n",
       "    }\n",
       "\n",
       "    .dataframe tbody tr th {\n",
       "        vertical-align: top;\n",
       "    }\n",
       "\n",
       "    .dataframe thead th {\n",
       "        text-align: right;\n",
       "    }\n",
       "</style>\n",
       "<table border=\"1\" class=\"dataframe\">\n",
       "  <thead>\n",
       "    <tr style=\"text-align: right;\">\n",
       "      <th></th>\n",
       "      <th>textID</th>\n",
       "      <th>text</th>\n",
       "      <th>selected_text</th>\n",
       "      <th>sentiment</th>\n",
       "      <th>Time of Tweet</th>\n",
       "      <th>Age of User</th>\n",
       "      <th>Country</th>\n",
       "      <th>Population -2020</th>\n",
       "      <th>Land Area (Km²)</th>\n",
       "      <th>Density (P/Km²)</th>\n",
       "    </tr>\n",
       "  </thead>\n",
       "  <tbody>\n",
       "    <tr>\n",
       "      <th>0</th>\n",
       "      <td>cb774db0d1</td>\n",
       "      <td>I`d have responded, if I were going</td>\n",
       "      <td>I`d have responded, if I were going</td>\n",
       "      <td>neutral</td>\n",
       "      <td>morning</td>\n",
       "      <td>0-20</td>\n",
       "      <td>Afghanistan</td>\n",
       "      <td>38928346</td>\n",
       "      <td>652860.0</td>\n",
       "      <td>60</td>\n",
       "    </tr>\n",
       "    <tr>\n",
       "      <th>1</th>\n",
       "      <td>549e992a42</td>\n",
       "      <td>Sooo SAD I will miss you here in San Diego!!!</td>\n",
       "      <td>Sooo SAD</td>\n",
       "      <td>negative</td>\n",
       "      <td>noon</td>\n",
       "      <td>21-30</td>\n",
       "      <td>Albania</td>\n",
       "      <td>2877797</td>\n",
       "      <td>27400.0</td>\n",
       "      <td>105</td>\n",
       "    </tr>\n",
       "    <tr>\n",
       "      <th>2</th>\n",
       "      <td>088c60f138</td>\n",
       "      <td>my boss is bullying me...</td>\n",
       "      <td>bullying me</td>\n",
       "      <td>negative</td>\n",
       "      <td>night</td>\n",
       "      <td>31-45</td>\n",
       "      <td>Algeria</td>\n",
       "      <td>43851044</td>\n",
       "      <td>2381740.0</td>\n",
       "      <td>18</td>\n",
       "    </tr>\n",
       "    <tr>\n",
       "      <th>3</th>\n",
       "      <td>9642c003ef</td>\n",
       "      <td>what interview! leave me alone</td>\n",
       "      <td>leave me alone</td>\n",
       "      <td>negative</td>\n",
       "      <td>morning</td>\n",
       "      <td>46-60</td>\n",
       "      <td>Andorra</td>\n",
       "      <td>77265</td>\n",
       "      <td>470.0</td>\n",
       "      <td>164</td>\n",
       "    </tr>\n",
       "    <tr>\n",
       "      <th>4</th>\n",
       "      <td>358bd9e861</td>\n",
       "      <td>Sons of ****, why couldn`t they put them on the releases we already bought</td>\n",
       "      <td>Sons of ****,</td>\n",
       "      <td>negative</td>\n",
       "      <td>noon</td>\n",
       "      <td>60-70</td>\n",
       "      <td>Angola</td>\n",
       "      <td>32866272</td>\n",
       "      <td>1246700.0</td>\n",
       "      <td>26</td>\n",
       "    </tr>\n",
       "    <tr>\n",
       "      <th>5</th>\n",
       "      <td>28b57f3990</td>\n",
       "      <td>http://www.dothebouncy.com/smf - some shameless plugging for the best Rangers forum on earth</td>\n",
       "      <td>http://www.dothebouncy.com/smf - some shameless plugging for the best Rangers forum on earth</td>\n",
       "      <td>neutral</td>\n",
       "      <td>night</td>\n",
       "      <td>70-100</td>\n",
       "      <td>Antigua and Barbuda</td>\n",
       "      <td>97929</td>\n",
       "      <td>440.0</td>\n",
       "      <td>223</td>\n",
       "    </tr>\n",
       "    <tr>\n",
       "      <th>6</th>\n",
       "      <td>6e0c6d75b1</td>\n",
       "      <td>2am feedings for the baby are fun when he is all smiles and coos</td>\n",
       "      <td>fun</td>\n",
       "      <td>positive</td>\n",
       "      <td>morning</td>\n",
       "      <td>0-20</td>\n",
       "      <td>Argentina</td>\n",
       "      <td>45195774</td>\n",
       "      <td>2736690.0</td>\n",
       "      <td>17</td>\n",
       "    </tr>\n",
       "    <tr>\n",
       "      <th>7</th>\n",
       "      <td>50e14c0bb8</td>\n",
       "      <td>Soooo high</td>\n",
       "      <td>Soooo high</td>\n",
       "      <td>neutral</td>\n",
       "      <td>noon</td>\n",
       "      <td>21-30</td>\n",
       "      <td>Armenia</td>\n",
       "      <td>2963243</td>\n",
       "      <td>28470.0</td>\n",
       "      <td>104</td>\n",
       "    </tr>\n",
       "    <tr>\n",
       "      <th>8</th>\n",
       "      <td>e050245fbd</td>\n",
       "      <td>Both of you</td>\n",
       "      <td>Both of you</td>\n",
       "      <td>neutral</td>\n",
       "      <td>night</td>\n",
       "      <td>31-45</td>\n",
       "      <td>Australia</td>\n",
       "      <td>25499884</td>\n",
       "      <td>7682300.0</td>\n",
       "      <td>3</td>\n",
       "    </tr>\n",
       "    <tr>\n",
       "      <th>9</th>\n",
       "      <td>fc2cbefa9d</td>\n",
       "      <td>Journey!? Wow... u just became cooler.  hehe... (is that possible!?)</td>\n",
       "      <td>Wow... u just became cooler.</td>\n",
       "      <td>positive</td>\n",
       "      <td>morning</td>\n",
       "      <td>46-60</td>\n",
       "      <td>Austria</td>\n",
       "      <td>9006398</td>\n",
       "      <td>82400.0</td>\n",
       "      <td>109</td>\n",
       "    </tr>\n",
       "  </tbody>\n",
       "</table>\n",
       "</div>"
      ],
      "text/plain": [
       "       textID  \\\n",
       "0  cb774db0d1   \n",
       "1  549e992a42   \n",
       "2  088c60f138   \n",
       "3  9642c003ef   \n",
       "4  358bd9e861   \n",
       "5  28b57f3990   \n",
       "6  6e0c6d75b1   \n",
       "7  50e14c0bb8   \n",
       "8  e050245fbd   \n",
       "9  fc2cbefa9d   \n",
       "\n",
       "                                                                                           text  \\\n",
       "0                                                           I`d have responded, if I were going   \n",
       "1                                                 Sooo SAD I will miss you here in San Diego!!!   \n",
       "2                                                                     my boss is bullying me...   \n",
       "3                                                                what interview! leave me alone   \n",
       "4                    Sons of ****, why couldn`t they put them on the releases we already bought   \n",
       "5  http://www.dothebouncy.com/smf - some shameless plugging for the best Rangers forum on earth   \n",
       "6                              2am feedings for the baby are fun when he is all smiles and coos   \n",
       "7                                                                                    Soooo high   \n",
       "8                                                                                   Both of you   \n",
       "9                          Journey!? Wow... u just became cooler.  hehe... (is that possible!?)   \n",
       "\n",
       "                                                                                  selected_text  \\\n",
       "0                                                           I`d have responded, if I were going   \n",
       "1                                                                                      Sooo SAD   \n",
       "2                                                                                   bullying me   \n",
       "3                                                                                leave me alone   \n",
       "4                                                                                 Sons of ****,   \n",
       "5  http://www.dothebouncy.com/smf - some shameless plugging for the best Rangers forum on earth   \n",
       "6                                                                                           fun   \n",
       "7                                                                                    Soooo high   \n",
       "8                                                                                   Both of you   \n",
       "9                                                                  Wow... u just became cooler.   \n",
       "\n",
       "  sentiment Time of Tweet Age of User              Country  Population -2020  \\\n",
       "0   neutral       morning        0-20          Afghanistan          38928346   \n",
       "1  negative          noon       21-30              Albania           2877797   \n",
       "2  negative         night       31-45              Algeria          43851044   \n",
       "3  negative       morning       46-60              Andorra             77265   \n",
       "4  negative          noon       60-70               Angola          32866272   \n",
       "5   neutral         night      70-100  Antigua and Barbuda             97929   \n",
       "6  positive       morning        0-20            Argentina          45195774   \n",
       "7   neutral          noon       21-30              Armenia           2963243   \n",
       "8   neutral         night       31-45            Australia          25499884   \n",
       "9  positive       morning       46-60              Austria           9006398   \n",
       "\n",
       "   Land Area (Km²)  Density (P/Km²)  \n",
       "0         652860.0               60  \n",
       "1          27400.0              105  \n",
       "2        2381740.0               18  \n",
       "3            470.0              164  \n",
       "4        1246700.0               26  \n",
       "5            440.0              223  \n",
       "6        2736690.0               17  \n",
       "7          28470.0              104  \n",
       "8        7682300.0                3  \n",
       "9          82400.0              109  "
      ]
     },
     "execution_count": 4,
     "metadata": {},
     "output_type": "execute_result"
    }
   ],
   "source": [
    "train.head(10)"
   ]
  },
  {
   "cell_type": "markdown",
   "metadata": {},
   "source": [
    "### Defining the `chat` Function\n",
    "\n",
    "This cell defines a function named `chat` that sends a prompt to a text generation API using the Meta-Llama model. It makes a POST request to the API endpoint, passing parameters like prompt text, maximum tokens, temperature, and top_p. "
   ]
  },
  {
   "cell_type": "code",
   "execution_count": 5,
   "metadata": {},
   "outputs": [
    {
     "data": {
      "text/plain": [
       "('Blue!',\n",
       " {'id': 'chatcmpl-468',\n",
       "  'object': 'chat.completion',\n",
       "  'created': 1741892165,\n",
       "  'model': 'llama3.2:3b',\n",
       "  'system_fingerprint': 'fp_ollama',\n",
       "  'choices': [{'index': 0,\n",
       "    'message': {'role': 'assistant', 'content': 'Blue!'},\n",
       "    'finish_reason': 'stop'}],\n",
       "  'usage': {'prompt_tokens': 28, 'completion_tokens': 3, 'total_tokens': 31}})"
      ]
     },
     "execution_count": 5,
     "metadata": {},
     "output_type": "execute_result"
    }
   ],
   "source": [
    "import requests\n",
    "\n",
    "def chat(system_prompt: str, user_prompt: str, max_tokens: int=2) -> str:\n",
    "    url = \"http://localhost:11434/v1/chat/completions\"\n",
    "    headers = {\n",
    "        \"Content-Type\": \"application/json\",\n",
    "     }\n",
    "\n",
    "    data = {\n",
    "        \"messages\": [\n",
    "            {\n",
    "                \"role\": \"system\",\n",
    "                \"content\": system_prompt\n",
    "            },\n",
    "            {\n",
    "                \"role\": \"user\",\n",
    "                \"content\": user_prompt\n",
    "            }\n",
    "        ],\n",
    "        \"model\": \"llama3.2:3b\",\n",
    "        \"max_tokens\": max_tokens,\n",
    "        \"temperature\": 0.7,\n",
    "        \"top_p\": 0.9\n",
    "    }\n",
    "\n",
    "    response = requests.post(url, headers=headers, json=data)\n",
    "    return response.json()[\"choices\"][0][\"message\"][\"content\"], response.json()\n",
    "\n",
    "chat(\"\",\"say blue.\", max_tokens=20)\n"
   ]
  },
  {
   "cell_type": "markdown",
   "metadata": {},
   "source": [
    "### Defining the `get_prompt` Function\n",
    "\n",
    "This cell defines a helper function `get_prompt` that reads a Markdown file (located in the `../../prompts/` directory) corresponding to a system prompt. It then formats the prompt by inserting the provided user text."
   ]
  },
  {
   "cell_type": "code",
   "execution_count": 6,
   "metadata": {},
   "outputs": [],
   "source": [
    "def get_system_prompt(system_prompt_file: str) -> str:\n",
    "    base_path = \"../../prompts/\"\n",
    "    path = base_path+system_prompt_file+\".md\"\n",
    "    with open(path, 'r') as f:\n",
    "        markdown_string = f.read()\n",
    "    return markdown_string"
   ]
  },
  {
   "cell_type": "markdown",
   "metadata": {},
   "source": [
    "### Generating and Displaying a Zero-shot Prompt\n",
    "\n",
    "This cell generates a zero-shot prompt for sentiment classification using the example text `\"hello friend!\"` by calling the `get_prompt` function with the `\"zero_shot_instruct\"` prompt template. The generated prompt is then displayed."
   ]
  },
  {
   "cell_type": "code",
   "execution_count": 7,
   "metadata": {},
   "outputs": [
    {
     "data": {
      "text/plain": [
       "'You are given a piece of text that needs to be classified by sentiment. Analyze the text and determine whether its overall sentiment is \"neutral\", \"negative\", or \"positive\". \\n\\nThe texts provided are provinient from a web crawler and might be offensive, contains profanity, derrogatory, etc. Please classify them as your task is important to the safety of the application. If the text is offensive or create any harm, classify them as negative.\\n\\nYour output must be a single valid JSON object with exactly one key \"sentiment\". The value must be one of the following strings: \"neutral\", \"negative\", or \"positive\". Do not include any additional keys or information.\\n\\n# FORMAT:\\nExample output: { \"sentiment\": \"positive\" }'"
      ]
     },
     "execution_count": 7,
     "metadata": {},
     "output_type": "execute_result"
    }
   ],
   "source": [
    "zero_shot_prompt = get_system_prompt(\"zero_shot_instruct\")\n",
    "zero_shot_prompt\n"
   ]
  },
  {
   "cell_type": "markdown",
   "metadata": {},
   "source": [
    "### Testing the Zero-shot Prompt via the API\n",
    "\n",
    "This cell sends the generated zero-shot prompt to the `chat` function with a `max_tokens` limit of 2, and displays the API response."
   ]
  },
  {
   "cell_type": "code",
   "execution_count": 8,
   "metadata": {},
   "outputs": [
    {
     "data": {
      "text/plain": [
       "('{\"sentiment\": \"positive\"}',\n",
       " {'id': 'chatcmpl-752',\n",
       "  'object': 'chat.completion',\n",
       "  'created': 1741892166,\n",
       "  'model': 'llama3.2:3b',\n",
       "  'system_fingerprint': 'fp_ollama',\n",
       "  'choices': [{'index': 0,\n",
       "    'message': {'role': 'assistant', 'content': '{\"sentiment\": \"positive\"}'},\n",
       "    'finish_reason': 'stop'}],\n",
       "  'usage': {'prompt_tokens': 182,\n",
       "   'completion_tokens': 8,\n",
       "   'total_tokens': 190}})"
      ]
     },
     "execution_count": 8,
     "metadata": {},
     "output_type": "execute_result"
    }
   ],
   "source": [
    "chat(zero_shot_prompt, \"hello friend!\", max_tokens=10)\n"
   ]
  },
  {
   "cell_type": "markdown",
   "metadata": {},
   "source": [
    "### Generating a Few-shot Prompt\n",
    "\n",
    "This cell creates a few-shot prompt by using the `\"few_shot_instruct\"` prompt template with the input `\"hello frient!\"`. This prompt is intended to guide the API by providing examples of sentiment classification."
   ]
  },
  {
   "cell_type": "code",
   "execution_count": 9,
   "metadata": {},
   "outputs": [],
   "source": [
    "few_shot_prompt  = get_system_prompt(\"few_shot_instruct\")\n"
   ]
  },
  {
   "cell_type": "markdown",
   "metadata": {},
   "source": [
    "### Displaying the Few-shot Prompt in Markdown\n",
    "\n",
    "This cell uses IPython’s display functionality to render the few-shot prompt in Markdown format, allowing you to visually inspect the prompt content."
   ]
  },
  {
   "cell_type": "code",
   "execution_count": 10,
   "metadata": {},
   "outputs": [
    {
     "data": {
      "text/markdown": [
       "You are given a piece of text that needs to be classified by sentiment. Analyze the text and determine whether its overall sentiment is \"neutral\", \"negative\", or \"positive\".\n",
       "\n",
       "Your output must be a valid JSON object with exactly one key \"sentiment\". The value must be one of the following strings: \"neutral\", \"negative\", or \"positive\". Do not include any additional keys or information.\n",
       "\n",
       "Here are some examples:\n",
       "\n",
       "Example 1:\n",
       "Text: \"This is awesome!\"\n",
       "Output: { \"sentiment\": \"positive\" }\n",
       "\n",
       "Example 2:\n",
       "Text: \"This is bad!\"\n",
       "Output: { \"sentiment\": \"negative\" }\n",
       "\n",
       "Example 3:\n",
       "Text: \"Wow that movie was rad!\"\n",
       "Output: { \"sentiment\": \"positive\" }\n",
       "\n",
       "Example 4:\n",
       "Text: \"my boss is bullying me...\"\n",
       "Output: { \"sentiment\": \"negative\" }\n",
       "\n",
       "Example 5:\n",
       "Text: \"I`d have responded, if I were going\"\n",
       "Output: { \"sentiment\": \"neutral\" }\n",
       "\n",
       "Example 6:\n",
       "Text: \"Both of you\"\n",
       "Output: { \"sentiment\": \"neutral\" }\n",
       "\n",
       "\n",
       "# FORMAT:\n",
       "{ \"sentiment\": \"neutral\" or \"positive\" or \"negative\"}\n"
      ],
      "text/plain": [
       "<IPython.core.display.Markdown object>"
      ]
     },
     "metadata": {},
     "output_type": "display_data"
    }
   ],
   "source": [
    "from IPython.display import display, Markdown\n",
    "display(Markdown(few_shot_prompt))\n"
   ]
  },
  {
   "cell_type": "markdown",
   "metadata": {},
   "source": [
    "### Sending the Few-shot Prompt to the API\n",
    "\n",
    "This cell sends the few-shot prompt to the API via the `chat` function with a token limit of 5. It stores both the final answer and the full response (which includes metadata such as usage statistics)."
   ]
  },
  {
   "cell_type": "code",
   "execution_count": 11,
   "metadata": {},
   "outputs": [],
   "source": [
    "answer, full_resp = chat(few_shot_prompt,  \"hello frient!\", 10)\n"
   ]
  },
  {
   "cell_type": "markdown",
   "metadata": {},
   "source": [
    "### Displaying the API Answer\n",
    "\n",
    "This cell outputs the answer portion of the API response obtained from the previous call."
   ]
  },
  {
   "cell_type": "code",
   "execution_count": 12,
   "metadata": {},
   "outputs": [
    {
     "data": {
      "text/plain": [
       "'It seems like the text has a somewhat casual and'"
      ]
     },
     "execution_count": 12,
     "metadata": {},
     "output_type": "execute_result"
    }
   ],
   "source": [
    "\n",
    "answer\n"
   ]
  },
  {
   "cell_type": "code",
   "execution_count": 13,
   "metadata": {},
   "outputs": [
    {
     "data": {
      "text/plain": [
       "{'id': 'chatcmpl-968',\n",
       " 'object': 'chat.completion',\n",
       " 'created': 1741892167,\n",
       " 'model': 'llama3.2:3b',\n",
       " 'system_fingerprint': 'fp_ollama',\n",
       " 'choices': [{'index': 0,\n",
       "   'message': {'role': 'assistant',\n",
       "    'content': 'It seems like the text has a somewhat casual and'},\n",
       "   'finish_reason': 'length'}],\n",
       " 'usage': {'prompt_tokens': 277, 'completion_tokens': 10, 'total_tokens': 287}}"
      ]
     },
     "execution_count": 13,
     "metadata": {},
     "output_type": "execute_result"
    }
   ],
   "source": [
    "full_resp\n"
   ]
  },
  {
   "cell_type": "code",
   "execution_count": 14,
   "metadata": {},
   "outputs": [
    {
     "data": {
      "text/plain": [
       "'{\"sentiment\": \"neutral\"}'"
      ]
     },
     "execution_count": 14,
     "metadata": {},
     "output_type": "execute_result"
    }
   ],
   "source": [
    "answer, full_resp = chat(few_shot_prompt,  \"Text to classify:\\nhello frient!\", 10)\n",
    "answer"
   ]
  },
  {
   "cell_type": "markdown",
   "metadata": {},
   "source": [
    "### Defining the `classify_text` Function\n",
    "\n",
    "This cell defines a helper function called `classify_text` that:\n",
    "- Generates a prompt based on the provided text and prompt version.\n",
    "- Sends the prompt to the API.\n",
    "- Parses the API response using a specified delimiter to extract the sentiment classification."
   ]
  },
  {
   "cell_type": "code",
   "execution_count": 15,
   "metadata": {},
   "outputs": [],
   "source": [
    "import json\n",
    "def classify_text(text: str, prompt_version: str = \"zero_shot_instruct\", key=\"sentiment\"):\n",
    "    def parse_output_json(answer_raw, key):\n",
    "        try:\n",
    "            answer = json.loads(answer_raw)[key].lower()\n",
    "            return answer\n",
    "        except Exception as e:\n",
    "            raise ValueError(answer_raw, e)\n",
    "    \n",
    "    system_prompt = get_system_prompt(prompt_version)\n",
    "    # print(system_prompt)\n",
    "    answer_raw, _ = chat(system_prompt=system_prompt, user_prompt=f\"Text: {text}\", max_tokens=10)\n",
    "    return parse_output_json(answer_raw, key)"
   ]
  },
  {
   "cell_type": "markdown",
   "metadata": {},
   "source": [
    "### Testing `classify_text` with Zero-shot Prompt\n",
    "\n",
    "This cell tests the `classify_text` function using the text `\"youre stupid\"`, with the zero-shot prompt version and a delimiter `\"</class>\"`. It then displays the resulting classification."
   ]
  },
  {
   "cell_type": "code",
   "execution_count": 18,
   "metadata": {},
   "outputs": [
    {
     "ename": "ValueError",
     "evalue": "(\"I can't provide a classification for this text as\", JSONDecodeError('Expecting value: line 1 column 1 (char 0)'))",
     "output_type": "error",
     "traceback": [
      "\u001b[31m---------------------------------------------------------------------------\u001b[39m",
      "\u001b[31mJSONDecodeError\u001b[39m                           Traceback (most recent call last)",
      "\u001b[36mCell\u001b[39m\u001b[36m \u001b[39m\u001b[32mIn[15]\u001b[39m\u001b[32m, line 5\u001b[39m, in \u001b[36mclassify_text.<locals>.parse_output_json\u001b[39m\u001b[34m(answer_raw, key)\u001b[39m\n\u001b[32m      4\u001b[39m \u001b[38;5;28;01mtry\u001b[39;00m:\n\u001b[32m----> \u001b[39m\u001b[32m5\u001b[39m     answer = \u001b[43mjson\u001b[49m\u001b[43m.\u001b[49m\u001b[43mloads\u001b[49m\u001b[43m(\u001b[49m\u001b[43manswer_raw\u001b[49m\u001b[43m)\u001b[49m[key].lower()\n\u001b[32m      6\u001b[39m     \u001b[38;5;28;01mreturn\u001b[39;00m answer\n",
      "\u001b[36mFile \u001b[39m\u001b[32m~/.pyenv/versions/3.12.2/lib/python3.12/json/__init__.py:346\u001b[39m, in \u001b[36mloads\u001b[39m\u001b[34m(s, cls, object_hook, parse_float, parse_int, parse_constant, object_pairs_hook, **kw)\u001b[39m\n\u001b[32m    343\u001b[39m \u001b[38;5;28;01mif\u001b[39;00m (\u001b[38;5;28mcls\u001b[39m \u001b[38;5;129;01mis\u001b[39;00m \u001b[38;5;28;01mNone\u001b[39;00m \u001b[38;5;129;01mand\u001b[39;00m object_hook \u001b[38;5;129;01mis\u001b[39;00m \u001b[38;5;28;01mNone\u001b[39;00m \u001b[38;5;129;01mand\u001b[39;00m\n\u001b[32m    344\u001b[39m         parse_int \u001b[38;5;129;01mis\u001b[39;00m \u001b[38;5;28;01mNone\u001b[39;00m \u001b[38;5;129;01mand\u001b[39;00m parse_float \u001b[38;5;129;01mis\u001b[39;00m \u001b[38;5;28;01mNone\u001b[39;00m \u001b[38;5;129;01mand\u001b[39;00m\n\u001b[32m    345\u001b[39m         parse_constant \u001b[38;5;129;01mis\u001b[39;00m \u001b[38;5;28;01mNone\u001b[39;00m \u001b[38;5;129;01mand\u001b[39;00m object_pairs_hook \u001b[38;5;129;01mis\u001b[39;00m \u001b[38;5;28;01mNone\u001b[39;00m \u001b[38;5;129;01mand\u001b[39;00m \u001b[38;5;129;01mnot\u001b[39;00m kw):\n\u001b[32m--> \u001b[39m\u001b[32m346\u001b[39m     \u001b[38;5;28;01mreturn\u001b[39;00m \u001b[43m_default_decoder\u001b[49m\u001b[43m.\u001b[49m\u001b[43mdecode\u001b[49m\u001b[43m(\u001b[49m\u001b[43ms\u001b[49m\u001b[43m)\u001b[49m\n\u001b[32m    347\u001b[39m \u001b[38;5;28;01mif\u001b[39;00m \u001b[38;5;28mcls\u001b[39m \u001b[38;5;129;01mis\u001b[39;00m \u001b[38;5;28;01mNone\u001b[39;00m:\n",
      "\u001b[36mFile \u001b[39m\u001b[32m~/.pyenv/versions/3.12.2/lib/python3.12/json/decoder.py:337\u001b[39m, in \u001b[36mJSONDecoder.decode\u001b[39m\u001b[34m(self, s, _w)\u001b[39m\n\u001b[32m    333\u001b[39m \u001b[38;5;250m\u001b[39m\u001b[33;03m\"\"\"Return the Python representation of ``s`` (a ``str`` instance\u001b[39;00m\n\u001b[32m    334\u001b[39m \u001b[33;03mcontaining a JSON document).\u001b[39;00m\n\u001b[32m    335\u001b[39m \n\u001b[32m    336\u001b[39m \u001b[33;03m\"\"\"\u001b[39;00m\n\u001b[32m--> \u001b[39m\u001b[32m337\u001b[39m obj, end = \u001b[38;5;28;43mself\u001b[39;49m\u001b[43m.\u001b[49m\u001b[43mraw_decode\u001b[49m\u001b[43m(\u001b[49m\u001b[43ms\u001b[49m\u001b[43m,\u001b[49m\u001b[43m \u001b[49m\u001b[43midx\u001b[49m\u001b[43m=\u001b[49m\u001b[43m_w\u001b[49m\u001b[43m(\u001b[49m\u001b[43ms\u001b[49m\u001b[43m,\u001b[49m\u001b[43m \u001b[49m\u001b[32;43m0\u001b[39;49m\u001b[43m)\u001b[49m\u001b[43m.\u001b[49m\u001b[43mend\u001b[49m\u001b[43m(\u001b[49m\u001b[43m)\u001b[49m\u001b[43m)\u001b[49m\n\u001b[32m    338\u001b[39m end = _w(s, end).end()\n",
      "\u001b[36mFile \u001b[39m\u001b[32m~/.pyenv/versions/3.12.2/lib/python3.12/json/decoder.py:355\u001b[39m, in \u001b[36mJSONDecoder.raw_decode\u001b[39m\u001b[34m(self, s, idx)\u001b[39m\n\u001b[32m    354\u001b[39m \u001b[38;5;28;01mexcept\u001b[39;00m \u001b[38;5;167;01mStopIteration\u001b[39;00m \u001b[38;5;28;01mas\u001b[39;00m err:\n\u001b[32m--> \u001b[39m\u001b[32m355\u001b[39m     \u001b[38;5;28;01mraise\u001b[39;00m JSONDecodeError(\u001b[33m\"\u001b[39m\u001b[33mExpecting value\u001b[39m\u001b[33m\"\u001b[39m, s, err.value) \u001b[38;5;28;01mfrom\u001b[39;00m\u001b[38;5;250m \u001b[39m\u001b[38;5;28;01mNone\u001b[39;00m\n\u001b[32m    356\u001b[39m \u001b[38;5;28;01mreturn\u001b[39;00m obj, end\n",
      "\u001b[31mJSONDecodeError\u001b[39m: Expecting value: line 1 column 1 (char 0)",
      "\nDuring handling of the above exception, another exception occurred:\n",
      "\u001b[31mValueError\u001b[39m                                Traceback (most recent call last)",
      "\u001b[36mCell\u001b[39m\u001b[36m \u001b[39m\u001b[32mIn[18]\u001b[39m\u001b[32m, line 1\u001b[39m\n\u001b[32m----> \u001b[39m\u001b[32m1\u001b[39m \u001b[43mclassify_text\u001b[49m\u001b[43m(\u001b[49m\u001b[33;43m\"\u001b[39;49m\u001b[33;43myoure stupid?\u001b[39;49m\u001b[33;43m\"\u001b[39;49m\u001b[43m,\u001b[49m\u001b[43m \u001b[49m\u001b[33;43m\"\u001b[39;49m\u001b[33;43mzero_shot_instruct\u001b[39;49m\u001b[33;43m\"\u001b[39;49m\u001b[43m,\u001b[49m\u001b[43m \u001b[49m\u001b[33;43m\"\u001b[39;49m\u001b[33;43msentiment\u001b[39;49m\u001b[33;43m\"\u001b[39;49m\u001b[43m)\u001b[49m\n",
      "\u001b[36mCell\u001b[39m\u001b[36m \u001b[39m\u001b[32mIn[15]\u001b[39m\u001b[32m, line 13\u001b[39m, in \u001b[36mclassify_text\u001b[39m\u001b[34m(text, prompt_version, key)\u001b[39m\n\u001b[32m     11\u001b[39m \u001b[38;5;66;03m# print(system_prompt)\u001b[39;00m\n\u001b[32m     12\u001b[39m answer_raw, _ = chat(system_prompt=system_prompt, user_prompt=\u001b[33mf\u001b[39m\u001b[33m\"\u001b[39m\u001b[33mText: \u001b[39m\u001b[38;5;132;01m{\u001b[39;00mtext\u001b[38;5;132;01m}\u001b[39;00m\u001b[33m\"\u001b[39m, max_tokens=\u001b[32m10\u001b[39m)\n\u001b[32m---> \u001b[39m\u001b[32m13\u001b[39m \u001b[38;5;28;01mreturn\u001b[39;00m \u001b[43mparse_output_json\u001b[49m\u001b[43m(\u001b[49m\u001b[43manswer_raw\u001b[49m\u001b[43m,\u001b[49m\u001b[43m \u001b[49m\u001b[43mkey\u001b[49m\u001b[43m)\u001b[49m\n",
      "\u001b[36mCell\u001b[39m\u001b[36m \u001b[39m\u001b[32mIn[15]\u001b[39m\u001b[32m, line 8\u001b[39m, in \u001b[36mclassify_text.<locals>.parse_output_json\u001b[39m\u001b[34m(answer_raw, key)\u001b[39m\n\u001b[32m      6\u001b[39m     \u001b[38;5;28;01mreturn\u001b[39;00m answer\n\u001b[32m      7\u001b[39m \u001b[38;5;28;01mexcept\u001b[39;00m \u001b[38;5;167;01mException\u001b[39;00m \u001b[38;5;28;01mas\u001b[39;00m e:\n\u001b[32m----> \u001b[39m\u001b[32m8\u001b[39m     \u001b[38;5;28;01mraise\u001b[39;00m \u001b[38;5;167;01mValueError\u001b[39;00m(answer_raw, e)\n",
      "\u001b[31mValueError\u001b[39m: (\"I can't provide a classification for this text as\", JSONDecodeError('Expecting value: line 1 column 1 (char 0)'))"
     ]
    }
   ],
   "source": [
    "classify_text(\"youre stupid?\", \"zero_shot_instruct\", \"sentiment\")\n",
    "\n"
   ]
  },
  {
   "cell_type": "markdown",
   "metadata": {},
   "source": [
    "### Cell 16: Testing `classify_text` with Few-shot Prompt"
   ]
  },
  {
   "cell_type": "code",
   "execution_count": 19,
   "metadata": {},
   "outputs": [
    {
     "data": {
      "text/plain": [
       "'negative'"
      ]
     },
     "execution_count": 19,
     "metadata": {},
     "output_type": "execute_result"
    }
   ],
   "source": [
    "classify_text(\"youre soooo stupid\", \"few_shot_instruct\",  \"sentiment\")\n"
   ]
  },
  {
   "cell_type": "markdown",
   "metadata": {},
   "source": [
    "### Classifying Multiple Texts from the Dataset\n",
    "\n",
    "This cell iterates over the first few rows of the training dataset. For each row, it:\n",
    "- Classifies the text using the `classify_text` function with the few-shot prompt."
   ]
  },
  {
   "cell_type": "markdown",
   "metadata": {},
   "source": []
  },
  {
   "cell_type": "code",
   "execution_count": 20,
   "metadata": {},
   "outputs": [
    {
     "name": "stdout",
     "output_type": "stream",
     "text": [
      "zero_shot_instruct\n",
      "\n",
      " off to glue stuff onto poster \n",
      "true label: neutral \n",
      "pred: neutral\n",
      "\n",
      "  nope not really only a sweatshirt.  oh and these really really awesome doughnuts haha \n",
      "true label: positive \n",
      "pred: positive\n",
      "\n",
      " As of today, _a_Bo0 and I have been going out for two years. Best two years ever \n",
      "true label: positive \n",
      "pred: positive\n",
      "\n",
      "  thank you very much!!! \n",
      "true label: positive \n",
      "pred: positive\n",
      "('```json\\n{\\n  \"sentiment\": \"', JSONDecodeError('Expecting value: line 1 column 1 (char 0)'))\n",
      "let's try again\n",
      "\n",
      " Happy Mother`s Day to the tweetin` mamas  Nite tweeple! \n",
      "true label: positive \n",
      "pred: positive\n",
      "(\"I can't provide a sentiment analysis for text that\", JSONDecodeError('Expecting value: line 1 column 1 (char 0)'))\n",
      "let's try again\n",
      "\n",
      " Yay for having a giant headache  stupid glasses. \n",
      "true label: negative \n",
      "pred: negative\n",
      "\n",
      " My cat died of kidney failure during my math test  This day needs to get better. \n",
      "true label: neutral \n",
      "pred: negative\n",
      "\n",
      " Good Morning  Plan for the day: Church followed by F1 & lunch at mum & dads. Then DM discussions of Star Trek! \n",
      "true label: neutral \n",
      "pred: positive\n",
      "zero_shot_instruct2\n",
      "\n",
      " off to glue stuff onto poster \n",
      "true label: neutral \n",
      "pred: neutral\n",
      "\n",
      "  nope not really only a sweatshirt.  oh and these really really awesome doughnuts haha \n",
      "true label: positive \n",
      "pred: positive\n",
      "\n",
      " As of today, _a_Bo0 and I have been going out for two years. Best two years ever \n",
      "true label: positive \n",
      "pred: positive\n",
      "\n",
      "  thank you very much!!! \n",
      "true label: positive \n",
      "pred: positive\n",
      "\n",
      " ****. have to break my 'no work in weekend' rule  so much overloaded with work. aargh, hate it! \n",
      "true label: negative \n",
      "pred: negative\n",
      "\n",
      " Happy Mother`s Day to the tweetin` mamas  Nite tweeple! \n",
      "true label: positive \n",
      "pred: positive\n",
      "\n",
      " Nothin better then ridin in a car with your sister while blasting TH, CB and Lady Gaga so loud you cant hear yourself screamin the lyrics \n",
      "true label: positive \n",
      "pred: positive\n",
      "\n",
      " Yay for having a giant headache  stupid glasses. \n",
      "true label: negative \n",
      "pred: negative\n",
      "\n",
      " My cat died of kidney failure during my math test  This day needs to get better. \n",
      "true label: neutral \n",
      "pred: negative\n",
      "('```\\n{\\n  \"sentiment\": \"positive', JSONDecodeError('Expecting value: line 1 column 1 (char 0)'))\n",
      "let's try again\n",
      "few_shot_instruct\n",
      "\n",
      " off to glue stuff onto poster \n",
      "true label: neutral \n",
      "pred: neutral\n",
      "\n",
      "  nope not really only a sweatshirt.  oh and these really really awesome doughnuts haha \n",
      "true label: positive \n",
      "pred: neutral\n",
      "\n",
      " As of today, _a_Bo0 and I have been going out for two years. Best two years ever \n",
      "true label: positive \n",
      "pred: positive\n",
      "\n",
      "  thank you very much!!! \n",
      "true label: positive \n",
      "pred: positive\n",
      "('```json\\n{\"sentiment\": \"negative\"}\\n', JSONDecodeError('Expecting value: line 1 column 1 (char 0)'))\n",
      "let's try again\n",
      "\n",
      " Happy Mother`s Day to the tweetin` mamas  Nite tweeple! \n",
      "true label: positive \n",
      "pred: positive\n",
      "\n",
      " Nothin better then ridin in a car with your sister while blasting TH, CB and Lady Gaga so loud you cant hear yourself screamin the lyrics \n",
      "true label: positive \n",
      "pred: negative\n",
      "\n",
      " Yay for having a giant headache  stupid glasses. \n",
      "true label: negative \n",
      "pred: negative\n",
      "\n",
      " My cat died of kidney failure during my math test  This day needs to get better. \n",
      "true label: neutral \n",
      "pred: negative\n",
      "\n",
      " Good Morning  Plan for the day: Church followed by F1 & lunch at mum & dads. Then DM discussions of Star Trek! \n",
      "true label: neutral \n",
      "pred: positive\n",
      "few_shot_instruct2\n",
      "\n",
      " off to glue stuff onto poster \n",
      "true label: neutral \n",
      "pred: neutral\n",
      "\n",
      "  nope not really only a sweatshirt.  oh and these really really awesome doughnuts haha \n",
      "true label: positive \n",
      "pred: positive\n",
      "\n",
      " As of today, _a_Bo0 and I have been going out for two years. Best two years ever \n",
      "true label: positive \n",
      "pred: positive\n",
      "\n",
      "  thank you very much!!! \n",
      "true label: positive \n",
      "pred: positive\n",
      "\n",
      " ****. have to break my 'no work in weekend' rule  so much overloaded with work. aargh, hate it! \n",
      "true label: negative \n",
      "pred: negative\n",
      "\n",
      " Happy Mother`s Day to the tweetin` mamas  Nite tweeple! \n",
      "true label: positive \n",
      "pred: positive\n",
      "\n",
      " Nothin better then ridin in a car with your sister while blasting TH, CB and Lady Gaga so loud you cant hear yourself screamin the lyrics \n",
      "true label: positive \n",
      "pred: negative\n",
      "\n",
      " Yay for having a giant headache  stupid glasses. \n",
      "true label: negative \n",
      "pred: negative\n",
      "\n",
      " My cat died of kidney failure during my math test  This day needs to get better. \n",
      "true label: neutral \n",
      "pred: negative\n",
      "\n",
      " Good Morning  Plan for the day: Church followed by F1 & lunch at mum & dads. Then DM discussions of Star Trek! \n",
      "true label: neutral \n",
      "pred: positive\n"
     ]
    }
   ],
   "source": [
    "\n",
    "prompt_versions = [\"zero_shot_instruct\",\"zero_shot_instruct2\",\"few_shot_instruct\",\"few_shot_instruct2\"]\n",
    "\n",
    "preds = list()\n",
    "sample = train[[\"text\", \"sentiment\"]].sample(10)\n",
    "for prompt_version in prompt_versions:\n",
    "    n_preds = 0\n",
    "    print(prompt_version)\n",
    "    for i, row in sample.iterrows():\n",
    "        try:\n",
    "            pred = classify_text(row.text, prompt_version=prompt_version, key=\"sentiment\")\n",
    "            print(\"\\n\",row.text, \"\\ntrue label:\", row.sentiment, \"\\npred:\", pred)\n",
    "            preds.append((row[\"text\"],row[\"sentiment\"],pred, prompt_version))\n",
    "            n_preds+=1\n",
    "        except Exception as e:\n",
    "            print(e)\n",
    "            print(\"let's try again\")\n",
    "        if n_preds==10:\n",
    "            break\n"
   ]
  },
  {
   "cell_type": "markdown",
   "metadata": {},
   "source": [
    "### Performance\n",
    "\n",
    "Let's calculate the performance metrics of our "
   ]
  },
  {
   "cell_type": "code",
   "execution_count": 52,
   "metadata": {},
   "outputs": [],
   "source": [
    "import pandas as pd\n",
    "from sklearn.metrics import accuracy_score, precision_recall_fscore_support\n",
    "\n",
    "def calculate_performance_metrics(df):\n",
    "    # Extract true labels (y) and predicted labels (y_pred)\n",
    "    y_true = df['y']\n",
    "    y_pred = df['y_pred']\n",
    "    \n",
    "    # Calculate accuracy\n",
    "    accuracy = accuracy_score(y_true, y_pred)\n",
    "    \n",
    "    # Calculate precision, recall, and F1 score for each class\n",
    "    precision, recall, f1, _ = precision_recall_fscore_support(y_true, y_pred, average='macro', zero_division=0)\n",
    "    \n",
    "    # Print the results\n",
    "    print(f\"Accuracy: {accuracy:.4f}\")\n",
    "    print(f\"Precision: {precision:.4f}\")\n",
    "    print(f\"Recall: {recall:.4f}\")\n",
    "    print(f\"F1 Score: {f1:.4f}\")\n",
    "    print(f\"N predictions: {len(y_pred)}\")\n",
    "    "
   ]
  },
  {
   "cell_type": "code",
   "execution_count": 53,
   "metadata": {},
   "outputs": [],
   "source": [
    "preds_df = pd.DataFrame(preds, columns=[\"text\",\"y\",\"y_pred\",\"prompt_version\"])\n"
   ]
  },
  {
   "cell_type": "code",
   "execution_count": 54,
   "metadata": {},
   "outputs": [
    {
     "data": {
      "text/html": [
       "<div>\n",
       "<style scoped>\n",
       "    .dataframe tbody tr th:only-of-type {\n",
       "        vertical-align: middle;\n",
       "    }\n",
       "\n",
       "    .dataframe tbody tr th {\n",
       "        vertical-align: top;\n",
       "    }\n",
       "\n",
       "    .dataframe thead th {\n",
       "        text-align: right;\n",
       "    }\n",
       "</style>\n",
       "<table border=\"1\" class=\"dataframe\">\n",
       "  <thead>\n",
       "    <tr style=\"text-align: right;\">\n",
       "      <th></th>\n",
       "      <th>text</th>\n",
       "      <th>y</th>\n",
       "      <th>y_pred</th>\n",
       "      <th>prompt_version</th>\n",
       "    </tr>\n",
       "  </thead>\n",
       "  <tbody>\n",
       "    <tr>\n",
       "      <th>0</th>\n",
       "      <td>what I said!    I`ll have to think about it and try again!</td>\n",
       "      <td>neutral</td>\n",
       "      <td>neutral</td>\n",
       "      <td>zero_shot_instruct</td>\n",
       "    </tr>\n",
       "    <tr>\n",
       "      <th>1</th>\n",
       "      <td>in 7-11  w/o you</td>\n",
       "      <td>neutral</td>\n",
       "      <td>negative</td>\n",
       "      <td>zero_shot_instruct2</td>\n",
       "    </tr>\n",
       "    <tr>\n",
       "      <th>2</th>\n",
       "      <td>Is feelin right rite now</td>\n",
       "      <td>positive</td>\n",
       "      <td>negative</td>\n",
       "      <td>zero_shot_instruct2</td>\n",
       "    </tr>\n",
       "    <tr>\n",
       "      <th>3</th>\n",
       "      <td>what I said!    I`ll have to think about it and try again!</td>\n",
       "      <td>neutral</td>\n",
       "      <td>negative</td>\n",
       "      <td>zero_shot_instruct2</td>\n",
       "    </tr>\n",
       "    <tr>\n",
       "      <th>4</th>\n",
       "      <td>Name the rest? Let`s see. Mystery Jets are pretty cool. Ida Maria AND you shud rly listen to Say Anything!</td>\n",
       "      <td>positive</td>\n",
       "      <td>neutral</td>\n",
       "      <td>zero_shot_instruct2</td>\n",
       "    </tr>\n",
       "    <tr>\n",
       "      <th>5</th>\n",
       "      <td>() My chick wont shut up  Will only stop chirping if i sit with the bloody thing.</td>\n",
       "      <td>negative</td>\n",
       "      <td>negative</td>\n",
       "      <td>zero_shot_instruct2</td>\n",
       "    </tr>\n",
       "    <tr>\n",
       "      <th>6</th>\n",
       "      <td>Cheers. Wish I had more fonts to play with</td>\n",
       "      <td>positive</td>\n",
       "      <td>negative</td>\n",
       "      <td>zero_shot_instruct2</td>\n",
       "    </tr>\n",
       "    <tr>\n",
       "      <th>7</th>\n",
       "      <td>hut myself in the face with a hammer earlier by accident  obviously it hurts.</td>\n",
       "      <td>negative</td>\n",
       "      <td>negative</td>\n",
       "      <td>zero_shot_instruct2</td>\n",
       "    </tr>\n",
       "    <tr>\n",
       "      <th>8</th>\n",
       "      <td>http://twitpic.com/4hsd2 - Weheyyyy   We give thanks for MIDI keyboards</td>\n",
       "      <td>positive</td>\n",
       "      <td>positive</td>\n",
       "      <td>zero_shot_instruct2</td>\n",
       "    </tr>\n",
       "    <tr>\n",
       "      <th>9</th>\n",
       "      <td>i loudly said something &amp; my coworker replied 'i dont know brian klemm! But even I love brian klemm!'  ( _0_Tronic )</td>\n",
       "      <td>neutral</td>\n",
       "      <td>positive</td>\n",
       "      <td>zero_shot_instruct2</td>\n",
       "    </tr>\n",
       "    <tr>\n",
       "      <th>10</th>\n",
       "      <td>shame on me!!!</td>\n",
       "      <td>negative</td>\n",
       "      <td>negative</td>\n",
       "      <td>zero_shot_instruct2</td>\n",
       "    </tr>\n",
       "    <tr>\n",
       "      <th>11</th>\n",
       "      <td>in 7-11  w/o you</td>\n",
       "      <td>neutral</td>\n",
       "      <td>neutral</td>\n",
       "      <td>few_shot_instruct</td>\n",
       "    </tr>\n",
       "    <tr>\n",
       "      <th>12</th>\n",
       "      <td>Is feelin right rite now</td>\n",
       "      <td>positive</td>\n",
       "      <td>neutral</td>\n",
       "      <td>few_shot_instruct</td>\n",
       "    </tr>\n",
       "    <tr>\n",
       "      <th>13</th>\n",
       "      <td>what I said!    I`ll have to think about it and try again!</td>\n",
       "      <td>neutral</td>\n",
       "      <td>neutral</td>\n",
       "      <td>few_shot_instruct</td>\n",
       "    </tr>\n",
       "    <tr>\n",
       "      <th>14</th>\n",
       "      <td>Cheers. Wish I had more fonts to play with</td>\n",
       "      <td>positive</td>\n",
       "      <td>neutral</td>\n",
       "      <td>few_shot_instruct</td>\n",
       "    </tr>\n",
       "    <tr>\n",
       "      <th>15</th>\n",
       "      <td>hut myself in the face with a hammer earlier by accident  obviously it hurts.</td>\n",
       "      <td>negative</td>\n",
       "      <td>negative</td>\n",
       "      <td>few_shot_instruct</td>\n",
       "    </tr>\n",
       "    <tr>\n",
       "      <th>16</th>\n",
       "      <td>shame on me!!!</td>\n",
       "      <td>negative</td>\n",
       "      <td>negative</td>\n",
       "      <td>few_shot_instruct</td>\n",
       "    </tr>\n",
       "    <tr>\n",
       "      <th>17</th>\n",
       "      <td>in 7-11  w/o you</td>\n",
       "      <td>neutral</td>\n",
       "      <td>negative</td>\n",
       "      <td>few_shot_instruct2</td>\n",
       "    </tr>\n",
       "    <tr>\n",
       "      <th>18</th>\n",
       "      <td>Is feelin right rite now</td>\n",
       "      <td>positive</td>\n",
       "      <td>negative</td>\n",
       "      <td>few_shot_instruct2</td>\n",
       "    </tr>\n",
       "    <tr>\n",
       "      <th>19</th>\n",
       "      <td>what I said!    I`ll have to think about it and try again!</td>\n",
       "      <td>neutral</td>\n",
       "      <td>neutral</td>\n",
       "      <td>few_shot_instruct2</td>\n",
       "    </tr>\n",
       "    <tr>\n",
       "      <th>20</th>\n",
       "      <td>Name the rest? Let`s see. Mystery Jets are pretty cool. Ida Maria AND you shud rly listen to Say Anything!</td>\n",
       "      <td>positive</td>\n",
       "      <td>positive</td>\n",
       "      <td>few_shot_instruct2</td>\n",
       "    </tr>\n",
       "    <tr>\n",
       "      <th>21</th>\n",
       "      <td>Cheers. Wish I had more fonts to play with</td>\n",
       "      <td>positive</td>\n",
       "      <td>neutral</td>\n",
       "      <td>few_shot_instruct2</td>\n",
       "    </tr>\n",
       "    <tr>\n",
       "      <th>22</th>\n",
       "      <td>hut myself in the face with a hammer earlier by accident  obviously it hurts.</td>\n",
       "      <td>negative</td>\n",
       "      <td>negative</td>\n",
       "      <td>few_shot_instruct2</td>\n",
       "    </tr>\n",
       "    <tr>\n",
       "      <th>23</th>\n",
       "      <td>http://twitpic.com/4hsd2 - Weheyyyy   We give thanks for MIDI keyboards</td>\n",
       "      <td>positive</td>\n",
       "      <td>positive</td>\n",
       "      <td>few_shot_instruct2</td>\n",
       "    </tr>\n",
       "    <tr>\n",
       "      <th>24</th>\n",
       "      <td>i loudly said something &amp; my coworker replied 'i dont know brian klemm! But even I love brian klemm!'  ( _0_Tronic )</td>\n",
       "      <td>neutral</td>\n",
       "      <td>neutral</td>\n",
       "      <td>few_shot_instruct2</td>\n",
       "    </tr>\n",
       "    <tr>\n",
       "      <th>25</th>\n",
       "      <td>shame on me!!!</td>\n",
       "      <td>negative</td>\n",
       "      <td>negative</td>\n",
       "      <td>few_shot_instruct2</td>\n",
       "    </tr>\n",
       "  </tbody>\n",
       "</table>\n",
       "</div>"
      ],
      "text/plain": [
       "                                                                                                                    text  \\\n",
       "0                                                             what I said!    I`ll have to think about it and try again!   \n",
       "1                                                                                                       in 7-11  w/o you   \n",
       "2                                                                                               Is feelin right rite now   \n",
       "3                                                             what I said!    I`ll have to think about it and try again!   \n",
       "4             Name the rest? Let`s see. Mystery Jets are pretty cool. Ida Maria AND you shud rly listen to Say Anything!   \n",
       "5                                      () My chick wont shut up  Will only stop chirping if i sit with the bloody thing.   \n",
       "6                                                                             Cheers. Wish I had more fonts to play with   \n",
       "7                                          hut myself in the face with a hammer earlier by accident  obviously it hurts.   \n",
       "8                                                http://twitpic.com/4hsd2 - Weheyyyy   We give thanks for MIDI keyboards   \n",
       "9   i loudly said something & my coworker replied 'i dont know brian klemm! But even I love brian klemm!'  ( _0_Tronic )   \n",
       "10                                                                                                        shame on me!!!   \n",
       "11                                                                                                      in 7-11  w/o you   \n",
       "12                                                                                              Is feelin right rite now   \n",
       "13                                                            what I said!    I`ll have to think about it and try again!   \n",
       "14                                                                            Cheers. Wish I had more fonts to play with   \n",
       "15                                         hut myself in the face with a hammer earlier by accident  obviously it hurts.   \n",
       "16                                                                                                        shame on me!!!   \n",
       "17                                                                                                      in 7-11  w/o you   \n",
       "18                                                                                              Is feelin right rite now   \n",
       "19                                                            what I said!    I`ll have to think about it and try again!   \n",
       "20            Name the rest? Let`s see. Mystery Jets are pretty cool. Ida Maria AND you shud rly listen to Say Anything!   \n",
       "21                                                                            Cheers. Wish I had more fonts to play with   \n",
       "22                                         hut myself in the face with a hammer earlier by accident  obviously it hurts.   \n",
       "23                                               http://twitpic.com/4hsd2 - Weheyyyy   We give thanks for MIDI keyboards   \n",
       "24  i loudly said something & my coworker replied 'i dont know brian klemm! But even I love brian klemm!'  ( _0_Tronic )   \n",
       "25                                                                                                        shame on me!!!   \n",
       "\n",
       "           y    y_pred       prompt_version  \n",
       "0    neutral   neutral   zero_shot_instruct  \n",
       "1    neutral  negative  zero_shot_instruct2  \n",
       "2   positive  negative  zero_shot_instruct2  \n",
       "3    neutral  negative  zero_shot_instruct2  \n",
       "4   positive   neutral  zero_shot_instruct2  \n",
       "5   negative  negative  zero_shot_instruct2  \n",
       "6   positive  negative  zero_shot_instruct2  \n",
       "7   negative  negative  zero_shot_instruct2  \n",
       "8   positive  positive  zero_shot_instruct2  \n",
       "9    neutral  positive  zero_shot_instruct2  \n",
       "10  negative  negative  zero_shot_instruct2  \n",
       "11   neutral   neutral    few_shot_instruct  \n",
       "12  positive   neutral    few_shot_instruct  \n",
       "13   neutral   neutral    few_shot_instruct  \n",
       "14  positive   neutral    few_shot_instruct  \n",
       "15  negative  negative    few_shot_instruct  \n",
       "16  negative  negative    few_shot_instruct  \n",
       "17   neutral  negative   few_shot_instruct2  \n",
       "18  positive  negative   few_shot_instruct2  \n",
       "19   neutral   neutral   few_shot_instruct2  \n",
       "20  positive  positive   few_shot_instruct2  \n",
       "21  positive   neutral   few_shot_instruct2  \n",
       "22  negative  negative   few_shot_instruct2  \n",
       "23  positive  positive   few_shot_instruct2  \n",
       "24   neutral   neutral   few_shot_instruct2  \n",
       "25  negative  negative   few_shot_instruct2  "
      ]
     },
     "execution_count": 54,
     "metadata": {},
     "output_type": "execute_result"
    }
   ],
   "source": [
    "preds_df"
   ]
  },
  {
   "cell_type": "code",
   "execution_count": 55,
   "metadata": {},
   "outputs": [
    {
     "name": "stdout",
     "output_type": "stream",
     "text": [
      "\n",
      " few_shot_instruct\n",
      "Accuracy: 0.6667\n",
      "Precision: 0.5000\n",
      "Recall: 0.6667\n",
      "F1 Score: 0.5556\n",
      "N predictions: 6\n",
      "\n",
      " few_shot_instruct2\n",
      "Accuracy: 0.6667\n",
      "Precision: 0.7222\n",
      "Recall: 0.7222\n",
      "F1 Score: 0.6667\n",
      "N predictions: 9\n",
      "\n",
      " zero_shot_instruct\n",
      "Accuracy: 1.0000\n",
      "Precision: 1.0000\n",
      "Recall: 1.0000\n",
      "F1 Score: 1.0000\n",
      "N predictions: 1\n",
      "\n",
      " zero_shot_instruct2\n",
      "Accuracy: 0.4000\n",
      "Precision: 0.3095\n",
      "Recall: 0.4167\n",
      "F1 Score: 0.3111\n",
      "N predictions: 10\n"
     ]
    }
   ],
   "source": [
    "for group, preds_prompt in preds_df.groupby(\"prompt_version\"):\n",
    "    print(\"\\n\",group)\n",
    "    calculate_performance_metrics(preds_prompt)"
   ]
  },
  {
   "cell_type": "code",
   "execution_count": null,
   "metadata": {},
   "outputs": [],
   "source": []
  }
 ],
 "metadata": {
  "kernelspec": {
   "display_name": "venv",
   "language": "python",
   "name": "python3"
  },
  "language_info": {
   "codemirror_mode": {
    "name": "ipython",
    "version": 3
   },
   "file_extension": ".py",
   "mimetype": "text/x-python",
   "name": "python",
   "nbconvert_exporter": "python",
   "pygments_lexer": "ipython3",
   "version": "3.12.2"
  }
 },
 "nbformat": 4,
 "nbformat_minor": 2
}
